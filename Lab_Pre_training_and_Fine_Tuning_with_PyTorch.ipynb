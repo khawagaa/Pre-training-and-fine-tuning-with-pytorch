{
  "cells": [
    {
      "cell_type": "markdown",
      "metadata": {
        "id": "view-in-github",
        "colab_type": "text"
      },
      "source": [
        "<a href=\"https://colab.research.google.com/github/khawagaa/Pre-training-and-fine-tuning-with-pytorch/blob/main/Lab_Pre_training_and_Fine_Tuning_with_PyTorch.ipynb\" target=\"_parent\"><img src=\"https://colab.research.google.com/assets/colab-badge.svg\" alt=\"Open In Colab\"/></a>"
      ]
    },
    {
      "cell_type": "markdown",
      "metadata": {
        "id": "8869451b-945c-4a87-a957-275fa8fba197"
      },
      "source": [
        "<p style=\"text-align:center\">\n",
        "    <a href=\"https://skills.network\" target=\"_blank\">\n",
        "    <img src=\"https://cf-courses-data.s3.us.cloud-object-storage.appdomain.cloud/assets/logos/SN_web_lightmode.png\" width=\"200\" alt=\"Skills Network Logo\"  />\n",
        "    </a>\n",
        "</p>\n"
      ]
    },
    {
      "cell_type": "markdown",
      "metadata": {
        "id": "08e75f45-5c50-4527-9627-e851d03eded5"
      },
      "source": [
        "# **Pre-Training and Fine-Tuning with PyTorch**\n",
        "\n",
        "Estimated time needed: **60** minutes\n",
        "\n",
        "As a machine learning engineer working for a streaming site, your objective is to develop a recommender system based on written movie reviews. Given that the dataset for these reviews is relatively small, your strategy leverages a larger, accessible dataset of magazine articles. The plan is to pretrain the model on this expansive magazine dataset to capture a broad understanding of text and language patterns. Subsequently, the model will undergo fine-tuning on the smaller, specific dataset of movie reviews to adapt its learned features to the particular task of recommending movies.\n",
        "\n",
        "\n",
        "\n",
        "![Documents Overload](https://cf-courses-data.s3.us.cloud-object-storage.appdomain.cloud/IMDvs-jpgkFICi5fhx6Fr7LBPie55jA.jpg)\n",
        "\n",
        "Fine-tuning a pretrained model can be approached in several ways, each with its advantages and disadvantages:\n",
        "\n",
        "1. **Training the model on the small movie dataset:**\n",
        "   - **Advantages:** Directly training on the movie review data ensures that the model is highly specialized and tailored to the specific characteristics and nuances of the dataset.\n",
        "   - **Disadvantages:** Due to the small size of the dataset, the model is at a higher risk of overfitting. There might not be enough data to effectively capture all of the complexities of language and sentiment in movie reviews.\n",
        "\n",
        "2. **Pretraining the model on a larger general-domain text and fine-tuning the movie dataset for each parameter:**\n",
        "   - **Advantages:** This approach allows every part of the model to learn from the movie reviews, potentially improving its accuracy on the specific task.\n",
        "   - **Disadvantages:** Fine-tuning all parameters with a small dataset can still lead to overfitting. It also requires huge computational resources and time, as adjustments across all parameters might lead to numerous iterations of training.\n",
        "\n",
        "3. **Fine-tuning on the final layer only:**\n",
        "   - **Advantages:** Fine-tuning only the final layer reduces the risk of overfitting, as the bulk of the model retains its pretrained structure. This method is faster and less resource-intensive.\n",
        "   - **Disadvantages:** Because only the final layer is adjusted, the model might not fully adapt to the specifics of the movie reviews, potentially limiting its effectiveness in understanding deeper contextual nuances.\n",
        "\n",
        "Each method offers a balance between adapting to the specifics of the movie review dataset and maintaining the robustness and generalizability learned from the larger magazine article dataset. Choosing the right strategy depends on the specific requirements and constraints of the project, such as available computational resources, the urgency of deployment, and the desired accuracy and specificity of the recommender system.\n"
      ]
    },
    {
      "cell_type": "markdown",
      "metadata": {
        "id": "829bad03-77b0-4e55-9dcf-0e0798033887"
      },
      "source": [
        "# __Table of contents__\n",
        "\n",
        "<ol>\n",
        "    <li><a href=\"#Objectives\">Objectives</a></li>\n",
        "    <li>\n",
        "        <a href=\"#Setup\">Setup</a>\n",
        "        <ol>\n",
        "            <li><a href=\"#Install-required-libraries\">Install required libraries</a></li>\n",
        "            <li><a href=\"#Import-required-libraries\">Import required libraries</a></li>\n",
        "            <li><a href=\"#Define-helper-functions\">Defining helper functions</a></li>\n",
        "        </ol>\n",
        "    </li>\n",
        "    <li><a href=\"#Positional-encodings\">Positional encodings</a></li>\n",
        "    <li><a href=\"#Import-IMDB-dataset\">Import IMDB dataset</a></li>\n",
        "    <ol>\n",
        "        <li><a href=\"#IMDB-dataset-overview\">IMDB dataset overview</a></li>\n",
        "        <ol>\n",
        "            <li><a href=\"#Dataset-composition\">Dataset composition</a></li>\n",
        "            <li><a href=\"#Applications\">Applications</a></li>\n",
        "            <li><a href=\"#Challenges\">Challenges</a></li>\n",
        "            <li><a href=\"#Dataset-splits\">Dataset splits</a></li>\n",
        "            <li><a href=\"#Data-loader\">Data loader</a></li>\n",
        "            <li><a href=\"#Neural-network\">Neural network</a></li>\n",
        "        </ol>\n",
        "    </ol>\n",
        "    <li>\n",
        "        <a href=\"#Training\">Training</a>\n",
        "        <ol>\n",
        "            <li><a href=\"#Train-IMDB\">Train IMDB</a></li>\n",
        "            <li><a href=\"#Fine-tune-a-model-pretrained-on-the-AG-News-dataset\">Fine-tune a model pretrained on the AG News dataset</a></li>\n",
        "            <li><a href=\"#Fine-tune-the-final-layer-only\">Fine-tune the final layer only</a></li>\n",
        "        </ol>\n",
        "    </li>\n",
        "    <li><a href=\"#Exercise:-Unfreeze-specific-layers-for-fine-tuning\">Exercise: Unfreeze specific layers for fine-tuning</a></li>\n"
      ]
    },
    {
      "cell_type": "markdown",
      "metadata": {
        "id": "e0738804-1561-44a5-88f1-1eda0474172f"
      },
      "source": [
        "---\n"
      ]
    },
    {
      "cell_type": "markdown",
      "metadata": {
        "id": "3635aaba-03cd-448d-a900-52d6d6995ca7"
      },
      "source": [
        "# Objectives\n",
        "\n",
        "After completing this lab, you will be able to:\n",
        "\n",
        "- Define and pretrain a transformer-based neural network using PyTorch for a classification task\n",
        "- Fully fine-tune the pretrained model for a different classification task\n",
        "- Compare results by fine-tuning only the last layer of the pretrained model\n"
      ]
    },
    {
      "cell_type": "markdown",
      "metadata": {
        "id": "bb05877f-56e6-40ee-8e97-4f8ed9c74328"
      },
      "source": [
        "---\n"
      ]
    },
    {
      "cell_type": "markdown",
      "metadata": {
        "id": "1887ec6c-4aab-4d71-85da-2dfcc727050f"
      },
      "source": [
        "# Setup\n"
      ]
    },
    {
      "cell_type": "markdown",
      "metadata": {
        "id": "bb766d2f-ecb2-4d64-b3bb-40af9e104ad5"
      },
      "source": [
        "### Install required libraries\n"
      ]
    },
    {
      "cell_type": "markdown",
      "metadata": {
        "id": "a8ff1ca0-c0e1-4763-be29-1e1c7bdd4cdd"
      },
      "source": [
        "For this lab, you'll use the following libraries, which are __not__ preinstalled in the Skills Network Labs environment. __You must run the code in the following cell__ to install them.\n"
      ]
    },
    {
      "cell_type": "code",
      "metadata": {
        "id": "184860c1-b352-4a73-bf69-91be623d74d2"
      },
      "outputs": [],
      "source": [
        "#!pip install --upgrade portalocker==2.8.2 torchtext==0.17.0 torchdata==0.7.1 pandas==2.2.2 matplotlib==3.9.0 scikit-learn==1.5.0 torch==2.2.0 numpy==1.23.2"
      ],
      "execution_count": null
    },
    {
      "cell_type": "code",
      "metadata": {
        "id": "806856dc-ba70-437a-a6af-0b8772d2e527"
      },
      "outputs": [],
      "source": [
        "!pip install torch==2.2.2\n",
        "!pip install torchtext==0.17.2\n",
        "!pip install portalocker==2.8.2\n",
        "!pip install torchdata==0.7.1\n",
        "!pip install pandas\n",
        "!pip install matplotlib==3.9.0 scikit-learn==1.5.0"
      ],
      "execution_count": null
    },
    {
      "cell_type": "code",
      "metadata": {
        "id": "275a1a8d-d5e9-4f0c-9455-15b78cbca341"
      },
      "outputs": [],
      "source": [
        "!pip install numpy==1.26.0"
      ],
      "execution_count": null
    },
    {
      "cell_type": "markdown",
      "metadata": {
        "id": "fd6affc5-eca7-4e44-a633-7d0f0042c316"
      },
      "source": [
        "### Import required libraries\n",
        "\n",
        "The following imports the required libraries.\n"
      ]
    },
    {
      "cell_type": "code",
      "metadata": {
        "id": "3cc2524a-ca33-4a51-afa6-0f07552cc27e"
      },
      "outputs": [],
      "source": [
        "from tqdm import tqdm\n",
        "import time\n",
        "import numpy as np\n",
        "import pandas as pd\n",
        "from itertools import accumulate\n",
        "import matplotlib.pyplot as plt\n",
        "import math\n",
        "\n",
        "import torch\n",
        "torch.set_num_threads(1)\n",
        "from torch import nn\n",
        "import os\n",
        "\n",
        "\n",
        "from torch.utils.data import DataLoader\n",
        "\n",
        "from torchtext.datasets import AG_NEWS\n",
        "from IPython.display import Markdown as md\n",
        "\n",
        "from torchtext.data.utils import get_tokenizer\n",
        "from torchtext.vocab import build_vocab_from_iterator, GloVe, Vectors\n",
        "from torchtext.datasets import IMDB\n",
        "from torch.utils.data import Dataset\n",
        "from torch.utils.data.dataset import random_split\n",
        "from torchtext.data.functional import to_map_style_dataset\n",
        "\n",
        "import pickle\n",
        "\n",
        "from urllib.request import urlopen\n",
        "import io\n",
        "\n",
        "import tarfile\n",
        "import tempfile\n",
        "\n",
        "from torch.nn.utils.rnn import pad_sequence\n",
        "\n",
        "# You can also use this section to suppress warnings generated by your code:\n",
        "def warn(*args, **kwargs):\n",
        "    pass\n",
        "import warnings\n",
        "warnings.warn = warn\n",
        "warnings.filterwarnings('ignore')"
      ],
      "execution_count": null
    },
    {
      "cell_type": "markdown",
      "metadata": {
        "id": "29a25a07-83fc-41a1-9665-f235cd428bad"
      },
      "source": [
        "### Define helper functions\n",
        "\n",
        "The following are some helper functions to help with plotting, saving, and loading files. These functions are not the main focus of this lab, so you do not have to dwell on these too long. However, do run the cells in this section to define these helper functions.\n"
      ]
    },
    {
      "cell_type": "code",
      "metadata": {
        "id": "7fdb25a3-0d21-4612-b93c-222851234ff7"
      },
      "outputs": [],
      "source": [
        "def plot(COST,ACC):\n",
        "\n",
        "    fig, ax1 = plt.subplots()\n",
        "    color = 'tab:red'\n",
        "    ax1.plot(COST, color=color)\n",
        "    ax1.set_xlabel('epoch', color=color)\n",
        "    ax1.set_ylabel('total loss', color=color)\n",
        "    ax1.tick_params(axis='y', color=color)\n",
        "\n",
        "    ax2 = ax1.twinx()\n",
        "    color = 'tab:blue'\n",
        "    ax2.set_ylabel('accuracy', color=color)  # you already handled the x-label with ax1\n",
        "    ax2.plot(ACC, color=color)\n",
        "    ax2.tick_params(axis='y', color=color)\n",
        "    fig.tight_layout()  # otherwise the right y-label is slightly clipped\n",
        "\n",
        "    plt.show()"
      ],
      "execution_count": null
    },
    {
      "cell_type": "code",
      "metadata": {
        "id": "4e81be9c-9fc7-4d0e-b962-275453180027"
      },
      "outputs": [],
      "source": [
        "def save_list_to_file(lst, filename):\n",
        "    \"\"\"\n",
        "    Save a list to a file using pickle serialization.\n",
        "\n",
        "    Parameters:\n",
        "        lst (list): The list to be saved.\n",
        "        filename (str): The name of the file to save the list to.\n",
        "\n",
        "    Returns:\n",
        "        None\n",
        "    \"\"\"\n",
        "    with open(filename, 'wb') as file:\n",
        "        pickle.dump(lst, file)\n",
        "\n",
        "def load_list_from_file(filename):\n",
        "    \"\"\"\n",
        "    Load a list from a file using pickle deserialization.\n",
        "\n",
        "    Parameters:\n",
        "        filename (str): The name of the file to load the list from.\n",
        "\n",
        "    Returns:\n",
        "        list: The loaded list.\n",
        "    \"\"\"\n",
        "    with open(filename, 'rb') as file:\n",
        "        loaded_list = pickle.load(file)\n",
        "    return loaded_list"
      ],
      "execution_count": null
    },
    {
      "cell_type": "markdown",
      "metadata": {
        "id": "1d9e5dcc-f51f-46b4-8122-cffa20d5512c"
      },
      "source": [
        "---\n"
      ]
    },
    {
      "cell_type": "markdown",
      "metadata": {
        "id": "9bbf5ff7-9602-4eb8-81eb-901611524b78"
      },
      "source": [
        "# Positional encodings\n",
        "\n",
        "Positional encodings play a pivotal role in transformers and various sequence-to-sequence models, aiding in conveying critical information regarding the positions or sequencing of elements within a given sequence. To illustrate, let's examine the sentences: \"He painted the car red\" and \"He painted the red car.\" Despite their distinct meanings, it's worth noting that the embeddings for these sentences remain identical in the absence of positional encodings. The following class defines positional encodings by inheriting from PyTorch's `Module` class.\n"
      ]
    },
    {
      "cell_type": "code",
      "metadata": {
        "id": "b24ccade-899c-4b36-be19-ecb7faee8912"
      },
      "outputs": [],
      "source": [
        "class PositionalEncoding(nn.Module):\n",
        "    \"\"\"\n",
        "    https://pytorch.org/tutorials/beginner/transformer_tutorial.html\n",
        "    \"\"\"\n",
        "\n",
        "    def __init__(self, d_model, vocab_size=5000, dropout=0.1):\n",
        "        super().__init__()\n",
        "        self.dropout = nn.Dropout(p=dropout)\n",
        "\n",
        "        pe = torch.zeros(vocab_size, d_model)\n",
        "        position = torch.arange(0, vocab_size, dtype=torch.float).unsqueeze(1)\n",
        "        div_term = torch.exp(\n",
        "            torch.arange(0, d_model, 2).float()\n",
        "            * (-math.log(10000.0) / d_model)\n",
        "        )\n",
        "        pe[:, 0::2] = torch.sin(position * div_term)\n",
        "        pe[:, 1::2] = torch.cos(position * div_term)\n",
        "        pe = pe.unsqueeze(0)\n",
        "        self.register_buffer(\"pe\", pe)\n",
        "\n",
        "    def forward(self, x):\n",
        "        x = x + self.pe[:, : x.size(1), :]\n",
        "        return self.dropout(x)"
      ],
      "execution_count": null
    },
    {
      "cell_type": "markdown",
      "metadata": {
        "id": "bdfd6ec3-2911-4e56-ba12-6a61226310ef"
      },
      "source": [
        "# Import IMDB dataset\n"
      ]
    },
    {
      "cell_type": "markdown",
      "metadata": {
        "id": "90f50a79-e70e-41f3-beff-876597f8ceea"
      },
      "source": [
        "The following code loads the IMDB dataset.\n"
      ]
    },
    {
      "cell_type": "code",
      "metadata": {
        "id": "403bc471-594d-41d8-8fd3-66efa3903e67"
      },
      "outputs": [],
      "source": [
        "urlopened = urlopen('https://cf-courses-data.s3.us.cloud-object-storage.appdomain.cloud/35t-FeC-2uN1ozOwPs7wFg.gz')\n",
        "tar = tarfile.open(fileobj=io.BytesIO(urlopened.read()))\n",
        "tempdir = tempfile.TemporaryDirectory()\n",
        "tar.extractall(tempdir.name)\n",
        "tar.close()"
      ],
      "execution_count": null
    },
    {
      "cell_type": "markdown",
      "metadata": {
        "id": "f70ba361-fb41-4517-982a-171bef1250d4"
      },
      "source": [
        "## IMDB dataset overview\n",
        "\n",
        "The **IMDB dataset** contains movie reviews from the Internet Movie Database (IMDB) and is commonly used for binary sentiment classification tasks. It's a popular dataset for training and testing models in natural language processing (NLP), particularly in the context of sentiment analysis.\n",
        "\n",
        "### Dataset composition\n",
        "\n",
        "- **Reviews**: The dataset consists of 50,000 movie reviews, divided evenly into 25,000 training and 25,000 testing samples.\n",
        "- **Sentiment labels**: Each review is labeled as either positive or negative, indicating the sentiment expressed in the review. The dataset is balanced, with an equal number of positive and negative reviews in both the training and testing sets.\n",
        "- **Text content**: Reviews are presented as plain text and have been preprocessed to some extent. For example, HTML tags are removed, but the text retains its original punctuation and capitalization.\n",
        "- **Usage**: The dataset is commonly used to train models for binary sentiment classification, where the goal is to predict whether a given review is positive or negative based on its text content.\n",
        "\n",
        "### Applications\n",
        "\n",
        "- **Sentiment analysis**: The primary application of the IMDB dataset is in sentiment analysis, where it serves as a benchmark for various text classification algorithms.\n",
        "- **Natural language processing (NLP)**: The dataset is widely used in NLP research and applications, providing a basis for testing the effectiveness of different models and approaches in understanding human language.\n",
        "\n",
        "### Challenges\n",
        "\n",
        "The dataset is small, so it's hard to train a model from scratch.\n",
        "\n",
        "The following class is defined to traverse the IMDB dataset. The need to define this class arises from the fact that the IMDB dataset is split across a large number of files.\n"
      ]
    },
    {
      "cell_type": "code",
      "metadata": {
        "id": "9e951516-da24-4f48-a180-055fea28a207"
      },
      "outputs": [],
      "source": [
        "class IMDBDataset(Dataset):\n",
        "    def __init__(self, root_dir, train=True):\n",
        "        \"\"\"\n",
        "        root_dir: The base directory of the IMDB dataset.\n",
        "        train: A boolean flag indicating whether to use training or test data.\n",
        "        \"\"\"\n",
        "        self.root_dir = os.path.join(root_dir, \"train\" if train else \"test\")\n",
        "        self.neg_files = [os.path.join(self.root_dir, \"neg\", f) for f in os.listdir(os.path.join(self.root_dir, \"neg\")) if f.endswith('.txt')]\n",
        "        self.pos_files = [os.path.join(self.root_dir, \"pos\", f) for f in os.listdir(os.path.join(self.root_dir, \"pos\")) if f.endswith('.txt')]\n",
        "        self.files = self.neg_files + self.pos_files\n",
        "        self.labels = [0] * len(self.neg_files) + [1] * len(self.pos_files)\n",
        "        self.pos_inx=len(self.pos_files)\n",
        "\n",
        "    def __len__(self):\n",
        "        return len(self.files)\n",
        "\n",
        "    def __getitem__(self, idx):\n",
        "        file_path = self.files[idx]\n",
        "        label = self.labels[idx]\n",
        "        with open(file_path, 'r', encoding='utf-8') as file:\n",
        "            content = file.read()\n",
        "        return label, content"
      ],
      "execution_count": null
    },
    {
      "cell_type": "markdown",
      "metadata": {
        "id": "4bbf7f2e-a635-4d08-9b1c-d481d518c1ad"
      },
      "source": [
        "The following code uses the `IMDBDataset` class previously defined to create iterators for the train and test datasets. In the latter part of the cell, you can return 20 examples from the train set.\n"
      ]
    },
    {
      "cell_type": "code",
      "metadata": {
        "id": "a3564ef8-dc7e-418a-aa13-11eb46f74496"
      },
      "outputs": [],
      "source": [
        "root_dir = tempdir.name + '/' + 'imdb_dataset'\n",
        "train_iter = IMDBDataset(root_dir=root_dir, train=True)  # For training data\n",
        "test_iter = IMDBDataset(root_dir=root_dir, train=False)  # For test data\n",
        "\n",
        "start=train_iter.pos_inx\n",
        "for i in range(-10,10):\n",
        "    print(train_iter[start+i])"
      ],
      "execution_count": null
    },
    {
      "cell_type": "markdown",
      "metadata": {
        "id": "e2692b53-7334-4529-bced-2321e5ee83fe"
      },
      "source": [
        "The following code defines the mapping of numeric labels to positive and negative reviews.\n"
      ]
    },
    {
      "cell_type": "code",
      "metadata": {
        "id": "4b460243-d3a1-4e58-ae62-e1e4e725d444"
      },
      "outputs": [],
      "source": [
        "imdb_label = {0: \" negative review\", 1: \"positive review\"}\n"
      ],
      "execution_count": null
    },
    {
      "cell_type": "markdown",
      "metadata": {
        "id": "64985f84-40d5-44a4-ae1f-64a05df5973e"
      },
      "source": [
        "The following code checks to ensure that there are exactly two classes in the train dataset.\n"
      ]
    },
    {
      "cell_type": "code",
      "metadata": {
        "id": "243407d8-7e92-4289-8541-92395dda86d3"
      },
      "outputs": [],
      "source": [
        "num_class = len(set([label for (label, text) in train_iter]))\n",
        "num_class"
      ],
      "execution_count": null
    },
    {
      "cell_type": "markdown",
      "metadata": {
        "id": "31319b6b-7508-49a6-b6a6-0268c33bc6a2"
      },
      "source": [
        "The following code loads a basic English tokenizer and defines a function called ```yield_tokens``` that uses the tokenizer to break down text data yielded by an iterator into tokens.\n"
      ]
    },
    {
      "cell_type": "code",
      "metadata": {
        "id": "dc35090c-7ca1-479a-952a-8dcbce9b664a"
      },
      "outputs": [],
      "source": [
        "tokenizer = get_tokenizer(\"basic_english\")\n",
        "def yield_tokens(data_iter):\n",
        "    \"\"\"Yield tokens for each data sample.\"\"\"\n",
        "    for _, text in data_iter:\n",
        "        yield tokenizer(text)"
      ],
      "execution_count": null
    },
    {
      "cell_type": "markdown",
      "metadata": {
        "id": "ddcde0aa-d997-44f8-b1be-d256ae0b725c"
      },
      "source": [
        " The following code loads a pretrained word embedding model called GloVe into a variable called `glove_embedding`.\n"
      ]
    },
    {
      "cell_type": "code",
      "metadata": {
        "id": "aae88237-3440-43cf-aa41-54d11d2ed3e0"
      },
      "outputs": [],
      "source": [
        "\n",
        "# Note that GloVe embeddings are typically downloaded using:\n",
        "#glove_embedding = GloVe(name=\"6B\", dim=100)\n",
        "# However, the GloVe server is frequently down. The code below offers a workaround\n",
        "\n",
        "\n",
        "class GloVe_override(Vectors):\n",
        "    url = {\n",
        "        \"6B\": \"https://cf-courses-data.s3.us.cloud-object-storage.appdomain.cloud/tQdezXocAJMBMPfUJx_iUg/glove-6B.zip\",\n",
        "    }\n",
        "\n",
        "    def __init__(self, name=\"6B\", dim=100, **kwargs) -> None:\n",
        "        url = self.url[name]\n",
        "        name = \"glove.{}.{}d.txt\".format(name, str(dim))\n",
        "        #name = \"glove.{}/glove.{}.{}d.txt\".format(name, name, str(dim))\n",
        "        super(GloVe_override, self).__init__(name, url=url, **kwargs)\n",
        "\n",
        "class GloVe_override2(Vectors):\n",
        "    url = {\n",
        "        \"6B\": \"https://cf-courses-data.s3.us.cloud-object-storage.appdomain.cloud/tQdezXocAJMBMPfUJx_iUg/glove-6B.zip\",\n",
        "    }\n",
        "\n",
        "    def __init__(self, name=\"6B\", dim=100, **kwargs) -> None:\n",
        "        url = self.url[name]\n",
        "        #name = \"glove.{}.{}d.txt\".format(name, str(dim))\n",
        "        name = \"glove.{}/glove.{}.{}d.txt\".format(name, name, str(dim))\n",
        "        super(GloVe_override2, self).__init__(name, url=url, **kwargs)\n",
        "\n",
        "try:\n",
        "    glove_embedding = GloVe_override(name=\"6B\", dim=100)\n",
        "except:\n",
        "    try:\n",
        "        glove_embedding = GloVe_override2(name=\"6B\", dim=100)\n",
        "    except:\n",
        "        glove_embedding = GloVe(name=\"6B\", dim=100)"
      ],
      "execution_count": null
    },
    {
      "cell_type": "markdown",
      "metadata": {
        "id": "61de3383-9829-4d3d-bd65-cab3a66c6cd7"
      },
      "source": [
        "The following code builds a vocabulary object from a pretrained GloVe word embedding model and sets the default index to the <unk> token.\n"
      ]
    },
    {
      "cell_type": "code",
      "metadata": {
        "id": "4e3dcfb1-5fe3-4f8e-a8f9-8541d8d8e849"
      },
      "outputs": [],
      "source": [
        "from torchtext.vocab import GloVe,vocab\n",
        "# Build vocab from glove_vectors\n",
        "vocab = vocab(glove_embedding .stoi, 0,specials=('<unk>', '<pad>'))\n",
        "vocab.set_default_index(vocab[\"<unk>\"])"
      ],
      "execution_count": null
    },
    {
      "cell_type": "markdown",
      "metadata": {
        "id": "71c746be-204c-40f4-85b5-c8f6547b927d"
      },
      "source": [
        "Let's count the number of words in the vocab:\n"
      ]
    },
    {
      "cell_type": "code",
      "metadata": {
        "id": "c629bd8d-64f7-4302-9b8f-a666c87a668b"
      },
      "outputs": [],
      "source": [
        "vocab_size=len(vocab)\n",
        "vocab_size"
      ],
      "execution_count": null
    },
    {
      "cell_type": "markdown",
      "metadata": {
        "id": "31644493-9a0a-4a67-837a-19d6469873fd"
      },
      "source": [
        "Let's test the ```vocab``` function:\n"
      ]
    },
    {
      "cell_type": "code",
      "metadata": {
        "id": "8be9fbd0-38f1-4004-b553-e072f2262b7f"
      },
      "outputs": [],
      "source": [
        "vocab(['he'])"
      ],
      "execution_count": null
    },
    {
      "cell_type": "markdown",
      "metadata": {
        "id": "e7dc858e-0193-452b-881a-c38532ff6227"
      },
      "source": [
        "### Dataset splits\n"
      ]
    },
    {
      "cell_type": "markdown",
      "metadata": {
        "id": "1fb122a2-4b08-48cb-a68a-88ca25d440c2"
      },
      "source": [
        "The following converts the dataset into map-style datasets and then performs a random split to create separate training and validation datasets. The training dataset will contain 95% of the samples in the original training set, while the validation dataset will contain the remaining 5%. These datasets can be used for training and evaluating a machine learning model for text classification on the IMDB dataset. The final performance of the model will be evaluated on the hold-out test set.\n"
      ]
    },
    {
      "cell_type": "code",
      "metadata": {
        "id": "6126718c-602b-4ddb-ac9a-65356790500b"
      },
      "outputs": [],
      "source": [
        "# Convert the training and testing iterators to map-style datasets.\n",
        "train_dataset = to_map_style_dataset(train_iter)\n",
        "test_dataset = to_map_style_dataset(test_iter)\n",
        "\n",
        "# Determine the number of samples to be used for training and validation (5% for validation).\n",
        "num_train = int(len(train_dataset) * 0.95)\n",
        "\n",
        "# Randomly split the training dataset into training and validation datasets using `random_split`.\n",
        "# The training dataset will contain 95% of the samples, and the validation dataset will contain the remaining 5%.\n",
        "split_train_, split_valid_ = random_split(train_dataset, [num_train, len(train_dataset) - num_train])"
      ],
      "execution_count": null
    },
    {
      "cell_type": "markdown",
      "metadata": {
        "id": "d6a9ce82-c018-4a17-8484-8b7e71631f40"
      },
      "source": [
        "Be aware that the Skills Network currently does not offer GPU access to learners. As a result, training on the full dataset could be time-consuming. To address this, you further reduce the size of the training set. This approach helps you mimic the training process as if a GPU were available. However, if you want to train using the full IMDB dataset, you must either comment out or remove the two lines in the upcoming code block.\n"
      ]
    },
    {
      "cell_type": "code",
      "metadata": {
        "id": "3389d75d-d7ee-4b0f-9c97-36238ef7630a"
      },
      "outputs": [],
      "source": [
        "num_train = int(len(train_dataset) * 0.05)\n",
        "split_train_, _ = random_split(split_train_, [num_train, len(split_train_) - num_train])"
      ],
      "execution_count": null
    },
    {
      "cell_type": "markdown",
      "metadata": {
        "id": "9c7c4fb0-d4f8-4faf-824f-eb720d9f19d8"
      },
      "source": [
        "The following code checks to see if a CUDA-compatible GPU is available in the system using PyTorch, a popular deep learning framework. If a GPU is available, it assigns the device variable to \"cuda\" (which stands for CUDA, the parallel computing platform and application programming interface model developed by NVIDIA). If a GPU is not available, it assigns the device variable to \"cpu\" (which means the code will run on the CPU instead).\n"
      ]
    },
    {
      "cell_type": "code",
      "metadata": {
        "id": "8bb95836-f43d-4efa-8daf-9f6ab0ae6d28"
      },
      "outputs": [],
      "source": [
        "device = torch.device(\"cuda\" if torch.cuda.is_available() else \"cpu\")\n",
        "device"
      ],
      "execution_count": null
    },
    {
      "cell_type": "markdown",
      "metadata": {
        "id": "5dfb90d4-ab47-4994-a615-aafc03d65110"
      },
      "source": [
        "### Data loader\n"
      ]
    },
    {
      "cell_type": "markdown",
      "metadata": {
        "id": "57bc04e9-4ee3-4c53-9165-556f306d3ac4"
      },
      "source": [
        "The following code prepares the text processing pipeline with the tokenizer and vocabulary. The text pipeline is used to process the raw data strings from the dataset iterators.\n",
        "\n",
        "The function **```text_pipeline```** first tokenizes the input text, then **```vocab```** is applied to get the token indices.\n"
      ]
    },
    {
      "cell_type": "code",
      "metadata": {
        "id": "688cdf96-979a-4713-aa6c-0d8eb2fe60c3"
      },
      "outputs": [],
      "source": [
        "def text_pipeline(x):\n",
        "    return vocab(tokenizer(x))"
      ],
      "execution_count": null
    },
    {
      "cell_type": "markdown",
      "metadata": {
        "id": "0265ba15-db0b-463f-8a76-763731e3290c"
      },
      "source": [
        "In PyTorch, the **`collate_fn`** function is used in conjunction with data loaders to customize the way batches are created from individual samples. The provided code defines a `collate_batch` function in PyTorch, which is used with data loaders to customize batch creation from individual samples. It processes a batch of data, including labels and text sequences. It applies the `text_pipeline` function to preprocess the text. The processed data is then converted into PyTorch tensors and returned as a tuple containing the label tensor, text tensor, and offsets tensor representing the starting positions of each text sequence in the combined tensor. The function also ensures that the returned tensors are moved to the specified device (for example, GPU) for efficient computation.\n"
      ]
    },
    {
      "cell_type": "code",
      "metadata": {
        "id": "4cedca3c-3a5c-4322-8c93-4c89047ded0c"
      },
      "outputs": [],
      "source": [
        "from torch.nn.utils.rnn import pad_sequence\n",
        "\n",
        "def collate_batch(batch):\n",
        "    label_list, text_list = [], []\n",
        "    for _label, _text in batch:\n",
        "\n",
        "        label_list.append(_label)\n",
        "        text_list.append(torch.tensor(text_pipeline(_text), dtype=torch.int64))\n",
        "\n",
        "    label_list = torch.tensor(label_list, dtype=torch.int64)\n",
        "    text_list = pad_sequence(text_list, batch_first=True)\n",
        "\n",
        "    return label_list.to(device), text_list.to(device)"
      ],
      "execution_count": null
    },
    {
      "cell_type": "markdown",
      "metadata": {
        "id": "107e1054-6f72-4bf7-9212-6476ee323302"
      },
      "source": [
        "You can convert the dataset objects to data loaders by applying the `collate` function.\n"
      ]
    },
    {
      "cell_type": "code",
      "metadata": {
        "id": "b7a97f3d-19c2-4ce4-b674-7d747bf54db8"
      },
      "outputs": [],
      "source": [
        "BATCH_SIZE = 32\n",
        "\n",
        "train_dataloader = DataLoader(\n",
        "    split_train_, batch_size=BATCH_SIZE, shuffle=True, collate_fn=collate_batch\n",
        ")\n",
        "valid_dataloader = DataLoader(\n",
        "    split_valid_, batch_size=BATCH_SIZE, shuffle=True, collate_fn=collate_batch\n",
        ")\n",
        "test_dataloader = DataLoader(\n",
        "    test_dataset, batch_size=BATCH_SIZE, shuffle=True, collate_fn=collate_batch\n",
        ")"
      ],
      "execution_count": null
    },
    {
      "cell_type": "markdown",
      "metadata": {
        "id": "89e96dff-151f-44ec-bf9f-ba4a3c70c376"
      },
      "source": [
        "Let's check to see what these data loaders generate.\n"
      ]
    },
    {
      "cell_type": "code",
      "metadata": {
        "id": "a9b7f32b-f59b-4fe8-ae7d-b569003c0434"
      },
      "outputs": [],
      "source": [
        "label,seqence=next(iter(valid_dataloader))\n",
        "label,seqence"
      ],
      "execution_count": null
    },
    {
      "cell_type": "markdown",
      "metadata": {
        "id": "dd973fe9-cbcc-47b5-96a0-ddfdc770ce54"
      },
      "source": [
        "###\n",
        "Neural network\n"
      ]
    },
    {
      "cell_type": "markdown",
      "metadata": {
        "id": "cf8636e3-aee1-4df0-9f8f-4146d29675f3"
      },
      "source": [
        "This code defines a class called Net that represents a text classifier based on a PyTorch TransformerEncoder.\n",
        "The constructor takes the following arguments:\n",
        "\n",
        "- `num_class`: The number of classes to classify\n",
        "- `vocab_size`: The size of the vocabulary\n",
        "- `freeze`: Whether to freeze the embedding layer\n",
        "- `nhead`: The number of heads in the transformer encoder\n",
        "- `dim_feedforward`: The dimension of the feedforward layer in the transformer encoder\n",
        "- `num_layers`: The number of transformer encoder layers\n",
        "- `dropout`: The dropout rate\n",
        "- `activation`: The activation function to use in the transformer encoder\n",
        "- `classifier_dropout`: The dropout rate for the classifier\n",
        "\n",
        "**Attributes:**\n",
        "\n",
        "- `emb`: An embedding layer that maps each word in the vocabulary to a dense vector representation\n",
        "- `pos_encoder`: A positional encoding layer that adds positional information to the word vectors\n",
        "- `transformer_encoder`: A transformer encoder layer that processes the sequence of word vectors and extracts high-level features\n",
        "- `classifier`: A linear layer that maps the output of the transformer encoder to the desired number of classes\n",
        "\n",
        "---\n",
        "\n",
        "\n"
      ]
    },
    {
      "cell_type": "code",
      "metadata": {
        "id": "7207c06f-4af4-41e3-a1b5-6bb9b23b5de4"
      },
      "outputs": [],
      "source": [
        "class Net(nn.Module):\n",
        "    \"\"\"\n",
        "    Text classifier based on a pytorch TransformerEncoder.\n",
        "    \"\"\"\n",
        "    def __init__(\n",
        "\n",
        "        self,\n",
        "        num_class,vocab_size,\n",
        "        freeze=True,\n",
        "        nhead=2,\n",
        "        dim_feedforward=128,\n",
        "        num_layers=2,\n",
        "        dropout=0.1,\n",
        "        activation=\"relu\",\n",
        "        classifier_dropout=0.1):\n",
        "\n",
        "        super().__init__()\n",
        "\n",
        "        #self.emb = embedding=nn.Embedding.from_pretrained(glove_embedding.vectors,freeze=freeze)\n",
        "        self.emb = nn.Embedding.from_pretrained(glove_embedding.vectors,freeze=freeze)\n",
        "        embedding_dim = self.emb.embedding_dim\n",
        "\n",
        "\n",
        "        self.pos_encoder = PositionalEncoding(\n",
        "            d_model=embedding_dim,\n",
        "            dropout=dropout,\n",
        "            vocab_size=vocab_size,\n",
        "        )\n",
        "\n",
        "        encoder_layer = nn.TransformerEncoderLayer(\n",
        "            d_model=embedding_dim,\n",
        "            nhead=nhead,\n",
        "            dim_feedforward=dim_feedforward,\n",
        "            dropout=dropout,\n",
        "        )\n",
        "        self.transformer_encoder = nn.TransformerEncoder(\n",
        "            encoder_layer,\n",
        "            num_layers=num_layers,\n",
        "        )\n",
        "        self.classifier = nn.Linear(embedding_dim, num_class)\n",
        "        self.d_model = embedding_dim\n",
        "\n",
        "    def forward(self, x):\n",
        "        x = self.emb(x) * math.sqrt(self.d_model)\n",
        "        x = self.pos_encoder(x)\n",
        "        x = self.transformer_encoder(x)\n",
        "        x = x.mean(dim=1)\n",
        "        x = self.classifier(x)\n",
        "\n",
        "        return x"
      ],
      "execution_count": null
    },
    {
      "cell_type": "markdown",
      "metadata": {
        "id": "e3ef8215-b9b7-4004-9135-924d2a93d075"
      },
      "source": [
        "The model can then be trained on labeled data from the IMDB dataset with two classes.\n"
      ]
    },
    {
      "cell_type": "markdown",
      "metadata": {
        "id": "110554b2-2bb5-4cef-86d8-fd8fd055600f"
      },
      "source": [
        "Let's create the model.\n"
      ]
    },
    {
      "cell_type": "code",
      "metadata": {
        "id": "8918172f-5d33-4685-8b66-f3e1789a2289"
      },
      "outputs": [],
      "source": [
        "device = torch.device(\"cuda\" if torch.cuda.is_available() else \"cpu\")\n",
        "model = Net(num_class=2,vocab_size=vocab_size).to(device)\n",
        "model"
      ],
      "execution_count": null
    },
    {
      "cell_type": "markdown",
      "metadata": {
        "id": "87745998-8e90-49a9-ba09-0c55c5d42aae"
      },
      "source": [
        "The following **`predict`** function takes in a text, a text pipeline, and a model as inputs. It uses a pretrained model passed as a parameter to predict the label of the text for text classification on the IMDB dataset.\n"
      ]
    },
    {
      "cell_type": "code",
      "metadata": {
        "id": "a61a471a-b868-4e06-933c-c09f5cc2ead3"
      },
      "outputs": [],
      "source": [
        "def predict(text, text_pipeline, model):\n",
        "    with torch.no_grad():\n",
        "        text = torch.unsqueeze(torch.tensor(text_pipeline(text)),0).to(device)\n",
        "        model.to(device)\n",
        "        output = model(text)\n",
        "        return imdb_label[output.argmax(1).item()]"
      ],
      "execution_count": null
    },
    {
      "cell_type": "code",
      "metadata": {
        "id": "fab331f5-83ea-49c4-8fe8-0e859c08dc08"
      },
      "outputs": [],
      "source": [
        "predict(\"I like sports and stuff\", text_pipeline, model)"
      ],
      "execution_count": null
    },
    {
      "cell_type": "markdown",
      "metadata": {
        "id": "75d93581-2d7d-4354-9312-b7c84c360fdd"
      },
      "source": [
        "You can create a function to evaluate the model's accuracy on a dataset. Here, you define two nearly identical evaluation functions, one that provides a `tqdm` progress bar, and one that does not.\n"
      ]
    },
    {
      "cell_type": "code",
      "metadata": {
        "id": "4a3fa4b7-6c9a-4811-8bc2-b94560a81b2f"
      },
      "outputs": [],
      "source": [
        "def evaluate(dataloader, model_eval):\n",
        "    model_eval.eval()\n",
        "    total_acc, total_count= 0, 0\n",
        "\n",
        "    with torch.no_grad():\n",
        "        for label, text in tqdm(dataloader):\n",
        "            label, text = label.to(device), text.to(device)\n",
        "            output = model_eval(text)\n",
        "            predicted = torch.max(output.data, 1)[1]\n",
        "            total_acc += (predicted == label).sum().item()\n",
        "            total_count += label.size(0)\n",
        "    return total_acc / total_count"
      ],
      "execution_count": null
    },
    {
      "cell_type": "code",
      "metadata": {
        "id": "6bd15db7-26a0-4483-a722-2c3ad259bd30"
      },
      "outputs": [],
      "source": [
        "def evaluate_no_tqdm(dataloader, model_eval):\n",
        "    model_eval.eval()\n",
        "    total_acc, total_count= 0, 0\n",
        "\n",
        "    with torch.no_grad():\n",
        "        for label, text in dataloader:\n",
        "            label, text = label.to(device), text.to(device)\n",
        "            output = model_eval(text)\n",
        "            predicted = torch.max(output.data, 1)[1]\n",
        "            total_acc += (predicted == label).sum().item()\n",
        "            total_count += label.size(0)\n",
        "    return total_acc / total_count"
      ],
      "execution_count": null
    },
    {
      "cell_type": "markdown",
      "metadata": {
        "id": "c876cd7a-2cd0-4a85-b46b-be731fdb80ca"
      },
      "source": [
        "The following code evaluates the performance of your model. Note that this can take approximately 4 minutes on a CPU.\n"
      ]
    },
    {
      "cell_type": "code",
      "metadata": {
        "id": "9edf9ecd-68d1-47e2-8a3f-031fc6548487"
      },
      "outputs": [],
      "source": [
        "evaluate(test_dataloader, model)"
      ],
      "execution_count": null
    },
    {
      "cell_type": "markdown",
      "metadata": {
        "id": "1682dfe3-c5ee-470c-8329-0024f77db7ea"
      },
      "source": [
        "Note that the current performance of the model is no better than average. This outcome is expected, considering that the model has not undergone any training yet.\n"
      ]
    },
    {
      "cell_type": "markdown",
      "metadata": {
        "id": "426ad112-b7af-449f-9cae-09a477448a7b"
      },
      "source": [
        "---\n"
      ]
    },
    {
      "cell_type": "markdown",
      "metadata": {
        "id": "672fe461-18b0-4d0c-b37b-d5b026db29a0"
      },
      "source": [
        "# Training\n"
      ]
    },
    {
      "cell_type": "markdown",
      "metadata": {
        "id": "02b4ab0c-7ed1-4b26-84f8-656fce180d54"
      },
      "source": [
        "The following code defines the training function used to train your model.\n"
      ]
    },
    {
      "cell_type": "code",
      "metadata": {
        "id": "aa443251-c282-4e98-8e77-76c12cf59061"
      },
      "outputs": [],
      "source": [
        "def train_model(model, optimizer, criterion, train_dataloader, valid_dataloader,  epochs=1000, save_dir=\"\", file_name=None):\n",
        "    cum_loss_list = []\n",
        "    acc_epoch = []\n",
        "    acc_old = 0\n",
        "    model_path = os.path.join(save_dir, file_name)\n",
        "    acc_dir = os.path.join(save_dir, os.path.splitext(file_name)[0] + \"_acc\")\n",
        "    loss_dir = os.path.join(save_dir, os.path.splitext(file_name)[0] + \"_loss\")\n",
        "    time_start = time.time()\n",
        "\n",
        "    for epoch in tqdm(range(1, epochs + 1)):\n",
        "        model.train()\n",
        "        #print(model)\n",
        "        #for parm in model.parameters():\n",
        "        #    print(parm.requires_grad)\n",
        "\n",
        "        cum_loss = 0\n",
        "        for idx, (label, text) in enumerate(train_dataloader):\n",
        "            optimizer.zero_grad()\n",
        "            label, text = label.to(device), text.to(device)\n",
        "\n",
        "            predicted_label = model(text)\n",
        "            loss = criterion(predicted_label, label)\n",
        "            loss.backward()\n",
        "            #print(loss)\n",
        "            torch.nn.utils.clip_grad_norm_(model.parameters(), 0.1)\n",
        "            optimizer.step()\n",
        "            cum_loss += loss.item()\n",
        "        print(f\"Epoch {epoch}/{epochs} - Loss: {cum_loss}\")\n",
        "\n",
        "        cum_loss_list.append(cum_loss)\n",
        "        accu_val = evaluate_no_tqdm(valid_dataloader,model)\n",
        "        acc_epoch.append(accu_val)\n",
        "\n",
        "        if model_path and accu_val > acc_old:\n",
        "            print(accu_val)\n",
        "            acc_old = accu_val\n",
        "            if save_dir is not None:\n",
        "                pass\n",
        "                #print(\"save model epoch\",epoch)\n",
        "                #torch.save(model.state_dict(), model_path)\n",
        "                #save_list_to_file(lst=acc_epoch, filename=acc_dir)\n",
        "                #save_list_to_file(lst=cum_loss_list, filename=loss_dir)\n",
        "\n",
        "    time_end = time.time()\n",
        "    print(f\"Training time: {time_end - time_start}\")"
      ],
      "execution_count": null
    },
    {
      "cell_type": "markdown",
      "metadata": {
        "id": "43f8ab4d-d5ff-4160-9b37-8d4f601c8d9a"
      },
      "source": [
        "### Train IMDB\n",
        "\n",
        "The following code sets the learning rate (LR) to 1, which determines the step size at which the optimizer updates the model's parameters during training. The CrossEntropyLoss criterion is used to calculate the loss between the model's predicted outputs and the ground truth labels. This loss function is commonly employed for multiclass classification tasks.\n",
        "\n",
        "The chosen optimizer is Stochastic Gradient Descent (SGD), which optimizes the model's parameters based on the computed gradients with respect to the loss function. The SGD optimizer uses the specified learning rate to control the size of the weight updates.\n",
        "\n",
        "Additionally, a learning rate scheduler is defined using StepLR. This scheduler adjusts the learning rate during training, reducing it by a factor (gamma) of 0.1 after every epoch (step) to improve convergence and fine-tune the model's performance. These components together form the essential setup for training a neural network using the specified learning rate, loss criterion, optimizer, and learning rate scheduler.\n",
        "\n",
        "For the sake of time efficiency, the number of epochs has been set to 2. This is to give you a practical demonstration of what the training process looks like. However, if you were to train this model in a real-world scenario, you would likely increase the number of epochs to a larger figure, such as 100 or more. Given the reduced training set defined earlier, it takes approximately 2 minutes to complete 2 epochs of training.\n"
      ]
    },
    {
      "cell_type": "code",
      "metadata": {
        "id": "3c06454d-32e0-4b47-951a-11f35b8c2223"
      },
      "outputs": [],
      "source": [
        "LR=1\n",
        "criterion = torch.nn.CrossEntropyLoss()\n",
        "optimizer = torch.optim.SGD(model.parameters(), lr=LR)\n",
        "scheduler = torch.optim.lr_scheduler.StepLR(optimizer, 1.0, gamma=0.1)\n",
        "save_dir = \"\"\n",
        "file_name = \"model_IMDB dataset small2.pth\"\n",
        "train_model(model=model,\n",
        "            optimizer=optimizer,\n",
        "            criterion=criterion,\n",
        "            train_dataloader=train_dataloader,\n",
        "            valid_dataloader=valid_dataloader,\n",
        "            epochs=2,\n",
        "            save_dir=save_dir,\n",
        "            file_name=file_name\n",
        "           )"
      ],
      "execution_count": null
    },
    {
      "cell_type": "markdown",
      "metadata": {
        "id": "83dd2fef-5a3e-4bb9-bb84-949a56b29b78"
      },
      "source": [
        "Naturally, the model you trained earlier with just 2 epochs and a reduced dataset won’t be used. Instead, you’ll use a model that has been pretrained using the same method but on the full dataset and with 100 epochs.\n",
        "\n",
        "The following code plots the cost and validation data accuracy for each epoch of the pretrained model up to and including the epoch that yielded the highest accuracy. As you can see, the pretrained model achieved an accuracy of over 85% on the validation set.\n"
      ]
    },
    {
      "cell_type": "code",
      "metadata": {
        "id": "e0206461-44e2-47de-ba53-c47706af1a17"
      },
      "outputs": [],
      "source": [
        "acc_urlopened = urlopen('https://cf-courses-data.s3.us.cloud-object-storage.appdomain.cloud/sybqacL5p1qeEO8d4xRZNg/model-IMDB%20dataset%20small2-acc')\n",
        "loss_urlopened = urlopen('https://cf-courses-data.s3.us.cloud-object-storage.appdomain.cloud/eOt6woGoaOB565T0RLH5WA/model-IMDB%20dataset%20small2-loss')\n",
        "acc_epoch = pickle.load(acc_urlopened)\n",
        "cum_loss_list = pickle.load(loss_urlopened)\n",
        "plot(cum_loss_list,acc_epoch)"
      ],
      "execution_count": null
    },
    {
      "cell_type": "markdown",
      "metadata": {
        "id": "2e754f87-6a11-4563-b464-5fed9376c9ed"
      },
      "source": [
        "The following code loads your pretrained model and evaluates its performance on the test set. This can take approximately 4 minutes to run.\n"
      ]
    },
    {
      "cell_type": "code",
      "metadata": {
        "id": "e053cd67-810f-46bf-a9d6-8e1afbf30885"
      },
      "outputs": [],
      "source": [
        "urlopened = urlopen('https://cf-courses-data.s3.us.cloud-object-storage.appdomain.cloud/q66IH6a7lglkZ4haM6hB1w/model-IMDB%20dataset%20small2.pth')\n",
        "model_ = Net(vocab_size=vocab_size, num_class=2).to(device)\n",
        "model_.load_state_dict(torch.load(io.BytesIO(urlopened.read()), map_location=device))\n",
        "evaluate(test_dataloader, model_)"
      ],
      "execution_count": null
    },
    {
      "cell_type": "markdown",
      "metadata": {
        "id": "f0e4c848-7c1d-456e-be6c-7d5dccbf9a83"
      },
      "source": [
        "As you can see, the pretrained model achieved an accuracy of approximately 83% on the test data.\n"
      ]
    },
    {
      "cell_type": "markdown",
      "metadata": {
        "id": "e5724556-0fd1-4076-929e-3a0753359ced"
      },
      "source": [
        "### Fine-tune a model pretrained on the AG News dataset\n",
        "\n",
        "Rather than training a model on the IMDB dataset as you did earlier, you have the option to fine-tune a model that has been pretrained on the AG News dataset, which is a collection of news articles. The goal of the AG News dataset is to categorize news articles into one of four categories: Sports, Business, Sci/tech, or World. You’ll start training a model from scratch on the AG News dataset. To save time, you can do this in just one cell. Also, for the sake of efficiency, train for only 2 epochs on a smaller dataset to demonstrate what the training process looks like. Note that this can take approximately 3 minutes to run.\n"
      ]
    },
    {
      "cell_type": "code",
      "metadata": {
        "id": "b8e47c4b-aada-470e-8b28-455de95d53cf"
      },
      "outputs": [],
      "source": [
        "train_iter_ag_news = AG_NEWS(split=\"train\")\n",
        "\n",
        "num_class_ag_news = len(set([label for (label, text) in train_iter_ag_news ]))\n",
        "num_class_ag_news\n",
        "\n",
        "# Split the dataset into training and testing iterators.\n",
        "train_iter_ag_news, test_iter_ag_news = AG_NEWS()\n",
        "\n",
        "# Convert the training and testing iterators to map-style datasets.\n",
        "train_dataset_ag_news = to_map_style_dataset(train_iter_ag_news)\n",
        "test_dataset_ag_news = to_map_style_dataset(test_iter_ag_news)\n",
        "\n",
        "# Determine the number of samples to be used for training and validation (5% for validation).\n",
        "num_train_ag_news = int(len(train_dataset_ag_news) * 0.95)\n",
        "\n",
        "# Randomly split the training dataset into training and validation datasets using `random_split`.\n",
        "# The training dataset will contain 95% of the samples, and the validation dataset will contain the remaining 5%.\n",
        "split_train_ag_news_, split_valid_ag_news_ = random_split(train_dataset_ag_news, [num_train_ag_news, len(train_dataset_ag_news) - num_train_ag_news])\n",
        "\n",
        "# Make the training set smaller to allow it to run fast as an example.\n",
        "# IF YOU WANT TO TRAIN ON THE AG_NEWS DATASET, COMMENT OUT THE 2 LINEs BELOW.\n",
        "# HOWEVER, NOTE THAT TRAINING WILL TAKE A LONG TIME\n",
        "num_train_ag_news = int(len(train_dataset_ag_news) * 0.05)\n",
        "split_train_ag_news_, _ = random_split(split_train_ag_news_, [num_train_ag_news, len(split_train_ag_news_) - num_train_ag_news])\n",
        "\n",
        "\n",
        "device = torch.device(\"cuda\" if torch.cuda.is_available() else \"cpu\")\n",
        "device\n",
        "\n",
        "def label_pipeline(x):\n",
        "   return int(x) - 1\n",
        "\n",
        "from torch.nn.utils.rnn import pad_sequence\n",
        "\n",
        "def collate_batch_ag_news(batch):\n",
        "    label_list, text_list = [], []\n",
        "    for _label, _text in batch:\n",
        "        label_list.append(label_pipeline(_label))\n",
        "        text_list.append(torch.tensor(text_pipeline(_text), dtype=torch.int64))\n",
        "\n",
        "\n",
        "    label_list = torch.tensor(label_list, dtype=torch.int64)\n",
        "    text_list = pad_sequence(text_list, batch_first=True)\n",
        "\n",
        "\n",
        "    return label_list.to(device), text_list.to(device)\n",
        "\n",
        "BATCH_SIZE = 32\n",
        "\n",
        "train_dataloader_ag_news = DataLoader(\n",
        "    split_train_ag_news_, batch_size=BATCH_SIZE, shuffle=True, collate_fn=collate_batch_ag_news\n",
        ")\n",
        "valid_dataloader_ag_news = DataLoader(\n",
        "    split_valid_ag_news_, batch_size=BATCH_SIZE, shuffle=True, collate_fn=collate_batch_ag_news\n",
        ")\n",
        "test_dataloader_ag_news = DataLoader(\n",
        "    test_dataset_ag_news, batch_size=BATCH_SIZE, shuffle=True, collate_fn=collate_batch_ag_news\n",
        ")\n",
        "\n",
        "\n",
        "model_ag_news = Net(num_class=4,vocab_size=vocab_size).to(device)\n",
        "model_ag_news.to(device)\n",
        "\n",
        "\n",
        "LR=1\n",
        "criterion = torch.nn.CrossEntropyLoss()\n",
        "optimizer = torch.optim.SGD(model_ag_news.parameters(), lr=LR)\n",
        "scheduler = torch.optim.lr_scheduler.StepLR(optimizer, 1.0, gamma=0.1)\n",
        "save_dir = \"\"\n",
        "file_name = \"model_AG News small1.pth\"\n",
        "train_model(model=model_ag_news, optimizer=optimizer, criterion=criterion, train_dataloader=train_dataloader_ag_news, valid_dataloader=valid_dataloader_ag_news,  epochs=2, save_dir=save_dir, file_name=file_name)\n"
      ],
      "execution_count": null
    },
    {
      "cell_type": "markdown",
      "metadata": {
        "id": "89e9ca26-2265-4603-8a90-75c219fd3642"
      },
      "source": [
        "Naturally, the model you trained earlier with just 2 epochs and a reduced dataset would not be used. Instead, you’ll use a model that has been pretrained using the same method but on the full AG News dataset and with 100 epochs.\n",
        "\n",
        "The following code plots the cost and validation data accuracy for each epoch of the pretrained model up to and including the epoch that yielded the highest accuracy. As you can see, the pretrained model achieved a very high accuracy of over 90% on the AG News validation set.\n"
      ]
    },
    {
      "cell_type": "code",
      "metadata": {
        "id": "1710eeb0-9ff7-46f4-ac83-5a60118adb4c"
      },
      "outputs": [],
      "source": [
        "acc_urlopened = urlopen('https://cf-courses-data.s3.us.cloud-object-storage.appdomain.cloud/bQk8mJu3Uct3I4JEsEtRnw/model-AG%20News%20small1-acc')\n",
        "loss_urlopened = urlopen('https://cf-courses-data.s3.us.cloud-object-storage.appdomain.cloud/KNQkqJWWwY_XfbFBRFhZNA/model-AG%20News%20small1-loss')\n",
        "acc_epoch = pickle.load(acc_urlopened)\n",
        "cum_loss_list = pickle.load(loss_urlopened)\n",
        "plot(cum_loss_list,acc_epoch)"
      ],
      "execution_count": null
    },
    {
      "cell_type": "markdown",
      "metadata": {
        "id": "2892c9ec-9144-40f4-8962-30a5991dad5d"
      },
      "source": [
        "The following code loads the pretrained model and evaluates its performance on the AG News test set.\n"
      ]
    },
    {
      "cell_type": "code",
      "metadata": {
        "id": "040335ac-e8fd-4c56-8df5-a287f56060a4"
      },
      "outputs": [],
      "source": [
        "urlopened = urlopen('https://cf-courses-data.s3.us.cloud-object-storage.appdomain.cloud/9c3Dh2O_jsYBShBuchUNlg/model-AG%20News%20small1.pth')\n",
        "model_ag_news_ = Net(vocab_size=vocab_size, num_class=4).to(device)\n",
        "model_ag_news_.load_state_dict(torch.load(io.BytesIO(urlopened.read()), map_location=device))\n",
        "evaluate(test_dataloader_ag_news, model_ag_news_)"
      ],
      "execution_count": null
    },
    {
      "cell_type": "markdown",
      "metadata": {
        "id": "00fbef63-8934-4a3b-9949-55ac1199c6ca"
      },
      "source": [
        "As you can see, the pretrained model worked extremely well on the AG News dataset. However, can this model be fine-tuned to perform well on the IMDB dataset as well? Let's find out! You can start off by loading the pretrained AG News model.\n"
      ]
    },
    {
      "cell_type": "code",
      "metadata": {
        "id": "16b36c9b-0f64-405c-8465-2a3b16d84994"
      },
      "outputs": [],
      "source": [
        "urlopened = urlopen('https://cf-courses-data.s3.us.cloud-object-storage.appdomain.cloud/9c3Dh2O_jsYBShBuchUNlg/model-AG%20News%20small1.pth')\n",
        "model_fine1 = Net(vocab_size=vocab_size, num_class=4).to(device)\n",
        "model_fine1.load_state_dict(torch.load(io.BytesIO(urlopened.read()), map_location=device))\n"
      ],
      "execution_count": null
    },
    {
      "cell_type": "markdown",
      "metadata": {
        "id": "0533a3c8-6f60-4b5f-add4-341e107e0dcc"
      },
      "source": [
        "The IMDB dataset is a binary classification task with only two classes (positive and negative reviews). Therefore, the output layer of the AG NEWS model should be adjusted to have just two output neurons to reflect the binary nature of the IMDB dataset. This adjustment is essential for the model to accurately learn and predict the sentiment of movie reviews in the IMDB dataset.\n"
      ]
    },
    {
      "cell_type": "code",
      "metadata": {
        "id": "ae1e1ea3-e3b8-4ab7-a4a9-a024e6374ad8"
      },
      "outputs": [],
      "source": [
        "model_fine1.classifier\n",
        "in_features = model_fine1.classifier.in_features\n",
        "print(\"Original final layer:\", model_fine1.classifier)\n",
        "print(\"Input dimention  final layer:\", in_features)"
      ],
      "execution_count": null
    },
    {
      "cell_type": "markdown",
      "metadata": {
        "id": "e6689a9a-0067-4633-bd89-6db5780d96cc"
      },
      "source": [
        "You can change the final layer into a two-class problem.\n"
      ]
    },
    {
      "cell_type": "code",
      "metadata": {
        "id": "bf78f6a4-80c6-43d0-b2f5-0cb0bb24c675"
      },
      "outputs": [],
      "source": [
        "model_fine1.classifier = nn.Linear(in_features, 2)\n",
        "model_fine1.to(device)"
      ],
      "execution_count": null
    },
    {
      "cell_type": "markdown",
      "metadata": {
        "id": "d1b12da6-8a07-4238-a648-7eed1d503fc0"
      },
      "source": [
        "The following code shows the layers that are frozen (`requires_grad == False`) and unfrozen (`requires_grad == True`) in the model. The unfrozen layers will have their weights updated during fine-tuning.\n"
      ]
    },
    {
      "cell_type": "code",
      "metadata": {
        "id": "941e350d-9fc7-41bd-9f8f-847440bed5f0"
      },
      "outputs": [],
      "source": [
        "for name, param in model_fine1.named_parameters():\n",
        "    print(f\"{name} requires_grad: {param.requires_grad}\")"
      ],
      "execution_count": null
    },
    {
      "cell_type": "markdown",
      "metadata": {
        "id": "a69c8163-d9bd-4870-971c-3ec8f4452212"
      },
      "source": [
        "The following block simulates fine-tuning on the shortened training set for just 2 epochs. This code should take approximately 2 minutes to run.\n"
      ]
    },
    {
      "cell_type": "code",
      "metadata": {
        "id": "e8337efc-1351-46fb-b9af-73076124aa4a"
      },
      "outputs": [],
      "source": [
        "LR=1\n",
        "criterion = torch.nn.CrossEntropyLoss()\n",
        "optimizer = torch.optim.SGD(model_fine1.parameters(), lr=LR)\n",
        "scheduler = torch.optim.lr_scheduler.StepLR(optimizer, 1.0, gamma=0.1)\n",
        "save_dir = \"\"\n",
        "file_name = \"model_fine1.pth\"\n",
        "train_model(model=model_fine1, optimizer=optimizer, criterion=criterion, train_dataloader=train_dataloader, valid_dataloader=valid_dataloader,  epochs=2,  save_dir=save_dir ,file_name=file_name )"
      ],
      "execution_count": null
    },
    {
      "cell_type": "markdown",
      "metadata": {
        "id": "fc11c921-c9b5-419d-8333-84d9d3647c61"
      },
      "source": [
        "Of course, you will not use the model you just fine-tuned on 2 epochs and a shortened dataset. Instead, show the progress of the fine-tuning of the full IMDB training set for 100 epochs.\n"
      ]
    },
    {
      "cell_type": "code",
      "metadata": {
        "id": "6ff2a359-30bb-4646-a302-64cd9a68c841"
      },
      "outputs": [],
      "source": [
        "acc_urlopened = urlopen('https://cf-courses-data.s3.us.cloud-object-storage.appdomain.cloud/3LEJw8BRgJJFGqlLxaETxA/model-fine1-acc')\n",
        "loss_urlopened = urlopen('https://cf-courses-data.s3.us.cloud-object-storage.appdomain.cloud/-CT1h97vjv0TolY82Nw29g/model-fine1-loss')\n",
        "acc_epoch = pickle.load(acc_urlopened)\n",
        "cum_loss_list = pickle.load(loss_urlopened)\n",
        "plot(cum_loss_list,acc_epoch)"
      ],
      "execution_count": null
    },
    {
      "cell_type": "markdown",
      "metadata": {
        "id": "e05b78d5-b8f2-4d35-ac3d-e2b11471a813"
      },
      "source": [
        "The following line loads the prefine-tuned model and evaluates its performance on the IMDB test set.\n"
      ]
    },
    {
      "cell_type": "code",
      "metadata": {
        "id": "a24f59ff-8da4-42b6-a30a-0430b6d183a4"
      },
      "outputs": [],
      "source": [
        "urlopened = urlopen('https://cf-courses-data.s3.us.cloud-object-storage.appdomain.cloud/e0WOHKh5dnrbC2lGhpsMMw/model-fine1.pth')\n",
        "model_fine1_ = Net(vocab_size=vocab_size, num_class=2).to(device)\n",
        "model_fine1_.load_state_dict(torch.load(io.BytesIO(urlopened.read()), map_location=device))\n",
        "evaluate(test_dataloader, model_fine1_)"
      ],
      "execution_count": null
    },
    {
      "cell_type": "markdown",
      "metadata": {
        "id": "b01c1d15-0cc0-48b7-92d5-31705dad075e"
      },
      "source": [
        "This model demonstrated notable improvement, exhibiting a remarkable achievement with an accuracy of 86% on the test data. This is higher than the 83% achieved by the model trained from scratch on the IMDB dataset. Although the training process was time-intensive (in fact, the fine-tuning was as time-intensive as training the model from scratch), the enhanced performance underscores the fine-tuned model's effectiveness and superiority over the model trained from scratch. A substantial portion of the computational effort was devoted to updating the transformer layers. To expedite the training process, one viable strategy is to focus on training the final layer only, which can significantly reduce the computational load but might compromise the model's accuracy.\n"
      ]
    },
    {
      "cell_type": "markdown",
      "metadata": {
        "id": "c5381099-254d-480d-b782-b6feb7f7f745"
      },
      "source": [
        "### Fine-tune the final layer only\n",
        "\n",
        "Fine-tuning the final output layer of a neural network is similar to fine-tuning the whole model. You can begin by loading the pretrained model you would like to fine-tune. In this case, it is the same model pretrained on the AG News dataset.\n"
      ]
    },
    {
      "cell_type": "code",
      "metadata": {
        "id": "8668ad1a-f37a-4b62-aa2b-51912d38a71b"
      },
      "outputs": [],
      "source": [
        "urlopened = urlopen('https://cf-courses-data.s3.us.cloud-object-storage.appdomain.cloud/9c3Dh2O_jsYBShBuchUNlg/model-AG%20News%20small1.pth')\n",
        "model_fine2 = Net(vocab_size=vocab_size, num_class=4).to(device)\n",
        "model_fine2.load_state_dict(torch.load(io.BytesIO(urlopened.read()), map_location=device))"
      ],
      "execution_count": null
    },
    {
      "cell_type": "markdown",
      "metadata": {
        "id": "e1389db8-836d-4a83-9cc2-fc8a61f71deb"
      },
      "source": [
        "Now here is the key difference: You iterate through all of the parameters in the `model_fine2` model and set the `requires_grad` attribute of each parameter to `False`. This effectively freezes all of the layers in the model, meaning that their weights are be updated during training.\n"
      ]
    },
    {
      "cell_type": "code",
      "metadata": {
        "id": "f04937da-628e-47a8-9a27-1d41c4db59a8"
      },
      "outputs": [],
      "source": [
        "# Freeze all layers in the model\n",
        "for param in model_fine2.parameters():\n",
        "    param.requires_grad = False"
      ],
      "execution_count": null
    },
    {
      "cell_type": "markdown",
      "metadata": {
        "id": "aad7eb86-0e8a-4fad-a7b3-64d4b9e17496"
      },
      "source": [
        "Replace the final layer to reflect the fact that you are solving a two-class problem. Note that the new layer will be unfrozen.\n"
      ]
    },
    {
      "cell_type": "code",
      "metadata": {
        "id": "84a4fadf-1b8a-4f26-bcdb-17db032b4411"
      },
      "outputs": [],
      "source": [
        "dim=model_fine2.classifier.in_features"
      ],
      "execution_count": null
    },
    {
      "cell_type": "code",
      "metadata": {
        "id": "6ac2e0eb-6abe-4c69-9e41-3234b1bfd4f8"
      },
      "outputs": [],
      "source": [
        "model_fine2.classifier = nn.Linear(dim, 2)"
      ],
      "execution_count": null
    },
    {
      "cell_type": "code",
      "metadata": {
        "id": "467f6a8e-e219-4dfd-9939-79c2bbb674c2"
      },
      "outputs": [],
      "source": [
        "model_fine2.to(device)\n"
      ],
      "execution_count": null
    },
    {
      "cell_type": "markdown",
      "metadata": {
        "id": "5284bbaf-60fe-4850-ab7b-647eb408f12d"
      },
      "source": [
        "To simulate training the model, simply execute the following cell, which trains on the shorted IMDB train set for just 2 epochs. The following code should take a shorter amount of time to train than the full fine-tuning conducted previously because only the final layer is unfrozen.\n"
      ]
    },
    {
      "cell_type": "code",
      "metadata": {
        "id": "b4ac179d-d4a9-472b-8a55-84422745ab01"
      },
      "outputs": [],
      "source": [
        "LR=1\n",
        "criterion = torch.nn.CrossEntropyLoss()\n",
        "optimizer = torch.optim.SGD(model_fine2.parameters(), lr=LR)\n",
        "scheduler = torch.optim.lr_scheduler.StepLR(optimizer, 1.0, gamma=0.1)\n",
        "save_dir = \"\"\n",
        "file_name = \"model_fine2.pth\"\n",
        "train_model(model=model_fine2, optimizer=optimizer, criterion=criterion, train_dataloader=train_dataloader, valid_dataloader=valid_dataloader,  epochs=2,  save_dir=save_dir ,file_name=file_name )\n"
      ],
      "execution_count": null
    },
    {
      "cell_type": "markdown",
      "metadata": {
        "id": "1e1e10a9-ce43-46cf-bce6-ad37eb377ebb"
      },
      "source": [
        "Once again, you will not use the model that you just fine-tuned, but instead inspect the fine-tuning process of a model fine-tuned on the full IMDB training set for 100 epochs.\n"
      ]
    },
    {
      "cell_type": "code",
      "metadata": {
        "id": "8b015883-cfac-454d-88ee-c8a26f507d7d"
      },
      "outputs": [],
      "source": [
        "acc_urlopened = urlopen('https://cf-courses-data.s3.us.cloud-object-storage.appdomain.cloud/UdR3ApQnxSeV2mrA0CbiLg/model-fine2-acc')\n",
        "loss_urlopened = urlopen('https://cf-courses-data.s3.us.cloud-object-storage.appdomain.cloud/rWGDIF-uL2dEngWcIo9teQ/model-fine2-loss')\n",
        "acc_epoch = pickle.load(acc_urlopened)\n",
        "cum_loss_list = pickle.load(loss_urlopened)\n",
        "plot(cum_loss_list,acc_epoch)"
      ],
      "execution_count": null
    },
    {
      "cell_type": "markdown",
      "metadata": {
        "id": "ee36f78f-e0d9-4bd5-ab9b-1a383baf7f54"
      },
      "source": [
        "The following line loads the model fine-tuned for 100 epochs on the full IMDB train set and evaluates its performance on the IMDB test set.\n"
      ]
    },
    {
      "cell_type": "code",
      "metadata": {
        "id": "3ae407c0-607a-4bc3-8f6a-a87d1fb53b00"
      },
      "outputs": [],
      "source": [
        "urlopened = urlopen('https://cf-courses-data.s3.us.cloud-object-storage.appdomain.cloud/B-1H6lpDg-A0zRwpB6Ek2g/model-fine2.pth')\n",
        "model_fine2_ = Net(vocab_size=vocab_size, num_class=2).to(device)\n",
        "model_fine2_.load_state_dict(torch.load(io.BytesIO(urlopened.read()), map_location=device))\n",
        "evaluate(test_dataloader, model_fine2_)"
      ],
      "execution_count": null
    },
    {
      "cell_type": "markdown",
      "metadata": {
        "id": "78e0bcb8-9eee-4a7f-b290-35b4b7951d08"
      },
      "source": [
        "The previous code indicates that although fine-tuning the final layer takes a significantly smaller amount of time than fine-tuning the whole model, the performance of the model with just the last layer unfrozen is significantly worse (64% accuracy) than the fine-tuned model with all layers unfrozen (86% accuracy).\n"
      ]
    },
    {
      "cell_type": "markdown",
      "metadata": {
        "id": "137a6d91-e69c-4d50-a5e4-43986ded0d52"
      },
      "source": [
        "---\n",
        "## Exercise: Unfreeze specific layers for fine-tuning\n",
        "\n",
        "First, run the following code block to initialize a model.\n"
      ]
    },
    {
      "cell_type": "code",
      "metadata": {
        "id": "0351c088-f446-44b6-ac6c-2bd17d4b04d5"
      },
      "outputs": [],
      "source": [
        "model_finetune_some_layers = Net(num_class=4,vocab_size=vocab_size).to(device)\n",
        "\n",
        "# Freeze all layers in the model\n",
        "for param in model_finetune_some_layers.parameters():\n",
        "    param.requires_grad = False\n",
        "\n",
        "model_finetune_some_layers"
      ],
      "execution_count": null
    },
    {
      "cell_type": "markdown",
      "metadata": {
        "id": "5327abbe-5e28-48fc-bf44-f664a2cea3ca"
      },
      "source": [
        "Now, replace the section labeled `### REPLACE THIS ###` in the following code block to unfreeze the following layers for fine-tuning:\n",
        "- `linear2` for all `layers` in `transformer_encoder`\n",
        "- The `classifier` layer, which you will convert into a layer that has three output classes\n"
      ]
    },
    {
      "cell_type": "code",
      "metadata": {
        "id": "e3e6c03c-b203-449e-ba6d-d424074196b7"
      },
      "outputs": [],
      "source": [
        "### REPLACE THIS ###\n"
      ],
      "execution_count": null
    },
    {
      "cell_type": "markdown",
      "metadata": {
        "id": "88e1af95-cccc-4406-b964-6566002e6f3c"
      },
      "source": [
        "<details>\n",
        "    <summary>Click here for the solution</summary>\n",
        "\n",
        "```python\n",
        "# Unfreeze the \"linear2\" layers:\n",
        "for i in range(2):\n",
        "    for param in model_finetune_some_layers.transformer_encoder.layers[i].linear2.parameters():\n",
        "        param.requires_grad = True\n",
        "\n",
        "# Replace the \"classifier\" layer. Note that this has the effect of unfreezing that layer:\n",
        "model_finetune_some_layers.classifier  = nn.Linear(100, 3)\n",
        "\n",
        "# Output all parameters indicating whether those parameters are unfrozen:\n",
        "for name, param in model_finetune_some_layers.named_parameters():\n",
        "    print(f\"{name} requires_grad: {param.requires_grad}\")\n",
        "```\n",
        "\n",
        "</details>\n"
      ]
    },
    {
      "cell_type": "markdown",
      "metadata": {
        "id": "54423298-9d70-4cda-ba72-a3e6e329a111"
      },
      "source": [
        "---\n"
      ]
    },
    {
      "cell_type": "markdown",
      "metadata": {
        "id": "6ada0206-549d-4230-80c7-3f7415756ddd"
      },
      "source": [
        "## Congratulations! You have completed the lab\n"
      ]
    },
    {
      "cell_type": "markdown",
      "metadata": {
        "id": "697aa91d-d0cb-4948-85f6-a03b17874a6b"
      },
      "source": [
        "## Authors\n"
      ]
    },
    {
      "cell_type": "markdown",
      "metadata": {
        "id": "b329aca3-e5f6-4a04-8c9f-b23645a81793"
      },
      "source": [
        "[Joseph Santarcangelo](https://author.skills.network/instructors/joseph_santarcangelo)\n",
        "\n",
        "Joseph has a Ph.D. in Electrical Engineering, his research focused on using machine learning, signal processing, and computer vision to determine how videos impact human cognition. Joseph has been working for IBM since he completed his PhD.\n"
      ]
    },
    {
      "cell_type": "markdown",
      "metadata": {
        "id": "d594e10a-1aab-4154-96ed-6cfa4d416258"
      },
      "source": [
        "[Wojciech \"Victor\" Fulmyk](https://www.linkedin.com/in/wfulmyk)\n",
        "\n",
        "Wojciech \"Victor\" Fulmyk is a Data Scientist at IBM, and a PhD Candidate in economics at the University of Calgary.\n"
      ]
    },
    {
      "cell_type": "markdown",
      "metadata": {
        "id": "83e9af42-55f2-48ae-b5d3-021d80614e68"
      },
      "source": [
        "[Ashutosh Sagar](https://www.linkedin.com/in/ashutoshsagar/) is completing his MS in CS from Dalhousie University. He has previous experience working with Natural Language Processing and as a Data Scientist.\n"
      ]
    },
    {
      "cell_type": "markdown",
      "metadata": {
        "id": "ca9028a1-b282-495f-941c-121baaa956c9"
      },
      "source": [
        "## References\n",
        "\n",
        "\n",
        "[TEXT CLASSIFICATION WITH THE TORCHTEXT LIBRARY](https://pytorch.org/tutorials/beginner/text_sentiment_ngrams_tutorial.html)\n"
      ]
    },
    {
      "cell_type": "markdown",
      "metadata": {
        "id": "2713cb17-54ed-4b28-9ba8-0130216bf565"
      },
      "source": [
        "© Copyright IBM Corporation. All rights reserved.\n"
      ]
    }
  ],
  "metadata": {
    "kernelspec": {
      "display_name": "Python 3 (ipykernel)",
      "language": "python",
      "name": "python3"
    },
    "language_info": {
      "codemirror_mode": {
        "name": "ipython",
        "version": 3
      },
      "file_extension": ".py",
      "mimetype": "text/x-python",
      "name": "python",
      "nbconvert_exporter": "python",
      "pygments_lexer": "ipython3",
      "version": "3.12.8"
    },
    "prev_pub_hash": "e8b595c397e9119bd2ea31a3d8622344f9e4348f5457e172356f45f0958de3ea",
    "colab": {
      "provenance": [],
      "include_colab_link": true
    }
  },
  "nbformat": 4,
  "nbformat_minor": 0
}